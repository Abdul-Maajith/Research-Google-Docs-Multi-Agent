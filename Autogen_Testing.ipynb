{
  "nbformat": 4,
  "nbformat_minor": 0,
  "metadata": {
    "colab": {
      "provenance": [],
      "authorship_tag": "ABX9TyNiPZMQMnjvVfwdV4Et9Tt4",
      "include_colab_link": true
    },
    "kernelspec": {
      "name": "python3",
      "display_name": "Python 3"
    },
    "language_info": {
      "name": "python"
    }
  },
  "cells": [
    {
      "cell_type": "markdown",
      "metadata": {
        "id": "view-in-github",
        "colab_type": "text"
      },
      "source": [
        "<a href=\"https://colab.research.google.com/github/Abdul-Maajith/Research-Google-Docs-Multi-Agent/blob/main/Autogen_Testing.ipynb\" target=\"_parent\"><img src=\"https://colab.research.google.com/assets/colab-badge.svg\" alt=\"Open In Colab\"/></a>"
      ]
    },
    {
      "cell_type": "code",
      "execution_count": null,
      "metadata": {
        "id": "LRPkbXY-_wJd"
      },
      "outputs": [],
      "source": [
        "!pip install pyautogen langchain langchain-community langchain-experimental duckduckgo-search praw stackapi arxiv wikipedia google-api-python-client pygithub python-socketio"
      ]
    },
    {
      "cell_type": "code",
      "source": [
        "def generate_llm_config(tool):\n",
        "    # Define the function schema based on the tool's args_schema\n",
        "    function_schema = {\n",
        "        \"name\": tool.name.lower().replace (' ', '_'),\n",
        "        \"description\": tool.description,\n",
        "        \"parameters\": {\n",
        "            \"type\": \"object\",\n",
        "            \"properties\": {},\n",
        "            \"required\": [],\n",
        "        },\n",
        "    }\n",
        "\n",
        "    if tool.args is not None:\n",
        "      function_schema[\"parameters\"][\"properties\"] = tool.args\n",
        "\n",
        "    return function_schema"
      ],
      "metadata": {
        "id": "m4FSJ8GPH_am"
      },
      "execution_count": null,
      "outputs": []
    },
    {
      "cell_type": "code",
      "source": [
        "import os\n",
        "from google.colab import userdata\n",
        "config_list = [\n",
        "    {\n",
        "        'model': 'gpt-4',\n",
        "        'api_key': userdata.get('openAIKey')\n",
        "    }\n",
        "]\n",
        "\n",
        "def is_termination_msg(content) -> bool:\n",
        "    have_content = content.get(\"content\", None) is not None\n",
        "    if have_content and \"TERMINATE\" in content[\"content\"]:\n",
        "        return True\n",
        "    return False"
      ],
      "metadata": {
        "id": "abmmK1mcAq4c"
      },
      "execution_count": null,
      "outputs": []
    },
    {
      "cell_type": "code",
      "source": [
        "!pip install --upgrade google-api-python-client google-auth-httplib2 google-auth-oauthlib"
      ],
      "metadata": {
        "id": "9VTPjD1YQMdJ"
      },
      "execution_count": null,
      "outputs": []
    },
    {
      "cell_type": "code",
      "source": [
        "from google.oauth2 import service_account\n",
        "from googleapiclient.discovery import build\n",
        "from googleapiclient.errors import HttpError\n",
        "\n",
        "def create_and_share_google_doc(data, document_name, email):\n",
        "    # Load the credentials from the JSON file\n",
        "    credentials = service_account.Credentials.from_service_account_file(\n",
        "        '/content/creds.json',\n",
        "        scopes=['https://www.googleapis.com/auth/documents', 'https://www.googleapis.com/auth/drive']\n",
        "    )\n",
        "\n",
        "    # Build the service for Google Docs\n",
        "    docs_service = build('docs', 'v1', credentials=credentials)\n",
        "    # Build the service for Google Drive\n",
        "    drive_service = build('drive', 'v3', credentials=credentials)\n",
        "\n",
        "    # Document ID of the document to update. If it doesn't exist, create a new one.\n",
        "    document_id = 'your-document-id'\n",
        "\n",
        "    try:\n",
        "        # Try to get the document\n",
        "        document = docs_service.documents().get(documentId=document_id).execute()\n",
        "        print(f\"Document '{document_name}' already exists.\")\n",
        "    except HttpError as error:\n",
        "        # If the document doesn't exist, create a new one\n",
        "        if error.resp.status == 404:\n",
        "            document = docs_service.documents().create(body={\n",
        "                'title': document_name\n",
        "            }).execute()\n",
        "            document_id = document.get('documentId')\n",
        "            print(f\"Document '{document_name}' created with ID: {document_id}\")\n",
        "        else:\n",
        "            print(f\"An error occurred: {error}\")\n",
        "            return\n",
        "\n",
        "    # Update the document with the provided data\n",
        "    requests = [\n",
        "        {\n",
        "            'insertText': {\n",
        "                'location': {\n",
        "                    'index': 1,\n",
        "                },\n",
        "                'text': data\n",
        "            }\n",
        "        }\n",
        "    ]\n",
        "\n",
        "    result = docs_service.documents().batchUpdate(\n",
        "        documentId=document_id,\n",
        "        body={'requests': requests}\n",
        "    ).execute()\n",
        "\n",
        "    print(f\"Document '{document_name}' updated with custom data.\")\n",
        "\n",
        "    # Share the document with the specified email\n",
        "    try:\n",
        "        permission = {\n",
        "            'type': 'user',\n",
        "            'role': 'writer',\n",
        "            'emailAddress': email\n",
        "        }\n",
        "        drive_service.permissions().create(\n",
        "            fileId=document_id,\n",
        "            body=permission,\n",
        "            fields='id'\n",
        "        ).execute()\n",
        "        print(f\"Document shared with {email}\")\n",
        "        return {\n",
        "            f\"Document '{document_name}' created with ID: {document_id}\",\n",
        "            f\"Document '{document_name}' updated with custom data: {data}\",\n",
        "            f\"Document saved onto Drive: {email}, please check shared folder on your GDrive\"\n",
        "        }\n",
        "    except Exception as error:\n",
        "        print(f\"An error occurred while sharing the document: {error}\")"
      ],
      "metadata": {
        "id": "nrUsULnZHMI6"
      },
      "execution_count": null,
      "outputs": []
    },
    {
      "cell_type": "code",
      "source": [
        "import requests\n",
        "from bs4 import BeautifulSoup\n",
        "\n",
        "from langchain.text_splitter import RecursiveCharacterTextSplitter\n",
        "from langchain import PromptTemplate\n",
        "from langchain.chains.summarize import load_summarize_chain\n",
        "from bs4 import BeautifulSoup\n",
        "from langchain.chat_models import ChatOpenAI\n",
        "import json\n",
        "import os\n",
        "from google.colab import userdata\n",
        "\n",
        "os.environ[\"OPENAI_API_KEY\"] = userdata.get('openAIKey')\n",
        "\n",
        "def summary(content):\n",
        "  llm = ChatOpenAI(temperature = 0, model = \"gpt-3.5-turbo-16k-0613\")\n",
        "\n",
        "  text_splitter = RecursiveCharacterTextSplitter(separators=[\"\\n\\n\", \"\\n\"], chunk_size = 10000, chunk_overlap=500)\n",
        "  docs = text_splitter.create_documents([content])\n",
        "\n",
        "  map_prompt = \"\"\"\n",
        "    Write a summary of the following text:\n",
        "    \"{text}\"\n",
        "    SUMMARY:\n",
        "    \"\"\"\n",
        "  map_prompt_template = PromptTemplate(template=map_prompt, input_variables=[\"text\"])\n",
        "\n",
        "  summary_chain = load_summarize_chain(\n",
        "    llm=llm,\n",
        "    chain_type='map_reduce',\n",
        "    map_prompt = map_prompt_template,\n",
        "    combine_prompt = map_prompt_template,\n",
        "    verbose = False\n",
        "  )\n",
        "\n",
        "  output = summary_chain.run(input_documents=docs)\n",
        "\n",
        "  return output\n",
        "\n",
        "# Function 1: WebScraping\n",
        "def web_scraping(url: str):\n",
        "  response = requests.get(\n",
        "        url='https://app.scrapingbee.com/api/v1/',\n",
        "        params={\n",
        "            'api_key': userdata.get('scrapingBeeKey'),\n",
        "            'url': url,\n",
        "        },\n",
        "\n",
        "    )\n",
        "  soup = BeautifulSoup(response.content, \"html.parser\")\n",
        "  text = soup.get_text()\n",
        "  print(len(text))\n",
        "  if len(text) > 10000:\n",
        "    output = summary(text)\n",
        "    return output\n",
        "  else:\n",
        "    return text\n",
        "\n",
        "# Function 2 : search Keyword on Google SERP\n",
        "def google_search(query):\n",
        "  url = \"https://google.serper.dev/search\"\n",
        "\n",
        "  payload = json.dumps({\n",
        "    \"q\": query\n",
        "  })\n",
        "\n",
        "  headers = {\n",
        "    'X-API-KEY': userdata.get('serper_api_key'),\n",
        "    'Content-Type': 'application/json'\n",
        "  }\n",
        "\n",
        "  response = requests.request(\"POST\", url, headers=headers, data=payload)\n",
        "  return response.json()\n"
      ],
      "metadata": {
        "id": "VjdTMalhQ19H"
      },
      "execution_count": null,
      "outputs": []
    },
    {
      "cell_type": "code",
      "source": [
        "llm_config={\n",
        "    \"functions\": [\n",
        "        {\n",
        "            \"name\": \"web_scraping\",\n",
        "            \"description\": \"Does Webscraping on a given URL and returns the result in a txt format\",\n",
        "            \"parameters\": {\n",
        "                \"type\": \"object\",\n",
        "                \"properties\": {\n",
        "                    \"url\": {\n",
        "                        \"type\": \"string\",\n",
        "                        \"description\": \"The URL of the website, which is to be scraped\",\n",
        "                    }\n",
        "                },\n",
        "                \"required\": [\"url\"],\n",
        "            },\n",
        "        },\n",
        "        {\n",
        "            \"name\": \"google_search\",\n",
        "            \"description\": \"It takes a search query as input and returns the search results obtained from Google using the SerpAPI\",\n",
        "            \"parameters\": {\n",
        "                \"type\": \"object\",\n",
        "                \"properties\": {\n",
        "                    \"query\": {\n",
        "                        \"type\": \"string\",\n",
        "                        \"description\": \"The query to search the indexed Wikipedia knowledge base for relevant information.\",\n",
        "                    }\n",
        "                },\n",
        "                \"required\": [\"query\"],\n",
        "            },\n",
        "        },\n",
        "        {\n",
        "            \"name\": \"create_and_share_google_doc\",\n",
        "            \"description\": \"The function receives the name of a document file, its content, and an email address. It then creates a Google Doc with the specified name, writes the content into it, and stores it in the Google Drive associated with the provided email.\",\n",
        "            \"parameters\": {\n",
        "                \"type\": \"object\",\n",
        "                \"properties\": {\n",
        "                    \"data\": {\n",
        "                        \"type\": \"string\",\n",
        "                        \"description\": \"The data which is to be written onto the google docs file\",\n",
        "                    },\n",
        "                    \"document_name\": {\n",
        "                        \"type\": \"string\",\n",
        "                        \"description\": \"The name of the document to be created or updated in Google Docs\",\n",
        "                    },\n",
        "                    \"email\": {\n",
        "                        \"type\": \"string\",\n",
        "                        \"description\": \"The email address to share the document with\",\n",
        "                    }\n",
        "                },\n",
        "                \"required\": [\"data\", \"document_name\", \"email\"],\n",
        "            },\n",
        "        },\n",
        "    ],\n",
        "    \"seed\": 42,\n",
        "    \"config_list\": config_list,\n",
        "    \"temperature\": 0\n",
        "}"
      ],
      "metadata": {
        "id": "1BC4MaVduOYy"
      },
      "execution_count": null,
      "outputs": []
    },
    {
      "cell_type": "code",
      "source": [
        "import autogen\n",
        "\n",
        "user_proxy = autogen.UserProxyAgent(\n",
        "    name=\"user_proxy\",\n",
        "    human_input_mode=\"NEVER\",\n",
        "    max_consecutive_auto_reply=10,\n",
        "    is_termination_msg=is_termination_msg,\n",
        "    code_execution_config={\n",
        "        \"work_dir\": \"coding\",\n",
        "        \"use_docker\": False,  # Please set use_docker=True if docker is available to run the generated code. Using docker is safer than running the generated code directly.\n",
        "    },\n",
        ")\n",
        "\n",
        "assistant = autogen.AssistantAgent(\n",
        "    name=\"assistant\",\n",
        "    system_message='''Complete the task. Begin by utilising the `google_search` function to\n",
        "    index the relevant webpage URL's, followed by using the `web_scraping`\n",
        "    function to retrieve the information from the particular URL and finally use create_and_share_google_doc to create and share the google Docs to the corresponding email address\n",
        "    Conclude with TERMINATE once the answer has been delivered.\n",
        "    ''',\n",
        "    llm_config=llm_config,\n",
        ")\n",
        "\n",
        "moderator = autogen.AssistantAgent(\n",
        "    name=\"moderator\",\n",
        "    system_message='''Your role is to guide the `assistant` by suggesting what information may be\n",
        "    necessary to effectively address the URL's.\n",
        "    Ensure the assistant is making accurate and relevant URL's\n",
        "    to each function to retrieve the needed information for task completion.\n",
        "    Conclude with TERMINATE once the answer has been delivered.\n",
        "    ''',\n",
        "    llm_config=llm_config,\n",
        "    # human_input_mode=\"NEVER\"\n",
        ")\n",
        "\n",
        "user_proxy.register_function(\n",
        "    function_map={\n",
        "      \"web_scraping\": web_scraping,\n",
        "      \"google_search\":google_search,\n",
        "      \"create_and_share_google_doc\": create_and_share_google_doc\n",
        "    }\n",
        ")\n",
        "\n",
        "groupchat = autogen.GroupChat(agents=[user_proxy, moderator, assistant], messages=[], max_round=20)\n",
        "llm_config_without_functions = {key: value for key, value in llm_config.items() if key != 'functions'}\n",
        "manager = autogen.GroupChatManager(groupchat=groupchat, llm_config=llm_config_without_functions)\n",
        "user_proxy.initiate_chat(manager, message=\"Create a google Docs on the topic: Recent Updates on AI Agents, and share it with this email: abdulmaajith0703@gmail.com\")"
      ],
      "metadata": {
        "colab": {
          "base_uri": "https://localhost:8080/"
        },
        "id": "NR9Kc0U7rWpe",
        "outputId": "2f46ca0b-0bab-4aad-96b9-a8f7b715a3b8"
      },
      "execution_count": null,
      "outputs": [
        {
          "output_type": "stream",
          "name": "stderr",
          "text": [
            "WARNING:autogen.io.base:No default IOStream has been set, defaulting to IOConsole.\n",
            "WARNING:autogen.io.base:No default IOStream has been set, defaulting to IOConsole.\n",
            "WARNING:autogen.io.base:No default IOStream has been set, defaulting to IOConsole.\n",
            "WARNING:autogen.io.base:No default IOStream has been set, defaulting to IOConsole.\n",
            "WARNING:autogen.io.base:No default IOStream has been set, defaulting to IOConsole.\n"
          ]
        },
        {
          "output_type": "stream",
          "name": "stdout",
          "text": [
            "user_proxy (to chat_manager):\n",
            "\n",
            "Create a google Docs on the topic: Recent Updates on AI Agents, and share it with this email: abdulmaajith0703@gmail.com\n",
            "\n",
            "--------------------------------------------------------------------------------\n"
          ]
        },
        {
          "output_type": "stream",
          "name": "stderr",
          "text": [
            "WARNING:autogen.io.base:No default IOStream has been set, defaulting to IOConsole.\n",
            "WARNING:autogen.io.base:No default IOStream has been set, defaulting to IOConsole.\n",
            "WARNING:autogen.io.base:No default IOStream has been set, defaulting to IOConsole.\n",
            "WARNING:autogen.io.base:No default IOStream has been set, defaulting to IOConsole.\n"
          ]
        },
        {
          "output_type": "stream",
          "name": "stdout",
          "text": [
            "assistant (to chat_manager):\n",
            "\n",
            "Sure, let's start by searching for recent updates on AI agents.\n",
            "***** Suggested function call: google_search *****\n",
            "Arguments: \n",
            "{\n",
            "  \"query\": \"Recent Updates on AI Agents\"\n",
            "}\n",
            "**************************************************\n",
            "\n",
            "--------------------------------------------------------------------------------\n"
          ]
        },
        {
          "output_type": "stream",
          "name": "stderr",
          "text": [
            "WARNING:autogen.io.base:No default IOStream has been set, defaulting to IOConsole.\n",
            "WARNING:autogen.io.base:No default IOStream has been set, defaulting to IOConsole.\n"
          ]
        },
        {
          "output_type": "stream",
          "name": "stdout",
          "text": [
            "\n",
            ">>>>>>>> EXECUTING FUNCTION google_search...\n"
          ]
        },
        {
          "output_type": "stream",
          "name": "stderr",
          "text": [
            "WARNING:autogen.io.base:No default IOStream has been set, defaulting to IOConsole.\n"
          ]
        },
        {
          "output_type": "stream",
          "name": "stdout",
          "text": [
            "user_proxy (to chat_manager):\n",
            "\n",
            "***** Response from calling function (google_search) *****\n",
            "{'searchParameters': {'q': 'Recent Updates on AI Agents', 'type': 'search', 'engine': 'google'}, 'organic': [{'title': 'Forget Chatbots. AI Agents Are the Future - WIRED', 'link': 'https://www.wired.com/story/fast-forward-forget-chatbots-ai-agents-are-the-future/', 'snippet': 'Startups and tech giants are trying to move from chatbots that offer help via text, to AI agents that can get stuff done. Recent demos ...', 'date': 'Mar 14, 2024', 'attributes': {'Missing': 'Updates | Show results with:Updates'}, 'position': 1}, {'title': \"Tech Companies Bet the World is Ready for 'AI Agents' - Bloomberg\", 'link': 'https://www.bloomberg.com/news/newsletters/2024-02-15/tech-companies-bet-the-world-is-ready-for-ai-agents', 'snippet': 'A number of startups, including Adept, Imbue and Luda, have raised millions in funding to pursue agents, a technology dubbed agentic AI. This ...', 'date': 'Feb 15, 2024', 'position': 2}, {'title': 'Artificial Intelligence News - ScienceDaily', 'link': 'https://www.sciencedaily.com/news/computers_math/artificial_intelligence/', 'snippet': 'Artificial Intelligence News. Everything on AI including futuristic robots with artificial intelligence, computer models of human intelligence and more.', 'position': 3}, {'title': \"Generative AI's next act: Autonomous agents - Axios\", 'link': 'https://www.axios.com/2024/02/26/generative-ai-next-act-autonomous-agents', 'snippet': 'Driving the news: ChatGPT maker OpenAI is deep into development of AI agent systems, as the Information recently reported. Former Salesforce ...', 'date': 'Feb 26, 2024', 'position': 4}, {'title': \"AI Agents Are Coming! Here's What To Expect... - YouTube\", 'link': 'https://www.youtube.com/watch?v=flvBnAdYWNM', 'snippet': \"AI Agents Are Coming! Here's What To Expect... Keep Your Digital Life Private and Be Safe ...\", 'date': 'Mar 18, 2024', 'attributes': {'Duration': '11:22', 'Posted': 'Mar 18, 2024'}, 'imageUrl': 'https://i.ytimg.com/vi/flvBnAdYWNM/default.jpg?sqp=-oaymwEECHgQQw&rs=AMzJL3lY2AlyNPYNV4qArNI4m4JahbZTbQ', 'position': 5}, {'title': 'AI digital agents: sending computer agents on personal tasks', 'link': 'https://www.insidehighered.com/opinion/blogs/online-trending-now/2024/03/27/ai-digital-agents-sending-computer-agents-personal', 'snippet': 'We have discussed much about the development of AI (artificial intelligence) capabilities in this column. We have reached the point of ...', 'date': '7 days ago', 'position': 6}, {'title': 'AI agents help explain other AI systems | MIT News', 'link': 'https://news.mit.edu/2024/ai-agents-help-explain-other-ai-systems-0103', 'snippet': 'Explaining the behavior of trained neural networks remains a compelling puzzle, especially as these models grow in size and sophistication.', 'date': 'Jan 3, 2024', 'attributes': {'Missing': 'Updates | Show results with:Updates'}, 'position': 7}, {'title': 'AI Agent News Update - LinkedIn', 'link': 'https://www.linkedin.com/pulse/ai-agent-news-update-phroneticai-vyxdc?trk=public_post', 'snippet': \"Here's a quick rundown on some recent developments in the world of AI agents: 1. AI Software Engineer? Cognition Labs claims to have created ...\", 'date': 'Mar 13, 2024', 'position': 8}, {'title': 'Autonomous AI agents: A progress report | TechTarget', 'link': 'https://www.techtarget.com/searchenterpriseai/feature/Autonomous-AI-agents-A-progress-report', 'snippet': 'Dozens of other autonomous AI agent tools have been released, including AutoGPT, LlamaIndex, AgentGPT, MetaGPT, AutoChain, PromptChainer and ...', 'date': 'Feb 28, 2024', 'position': 9}, {'title': 'AI News - Artificial Intelligence News', 'link': 'https://www.artificialintelligence-news.com/', 'snippet': 'Artificial Intelligence News provides the latest AI news and trends. Explore industry research and reports from the frontline of AI technology news.', 'sitelinks': [{'title': 'About AI News', 'link': 'https://www.artificialintelligence-news.com/about-us/'}, {'title': 'AI regulation', 'link': 'https://www.artificialintelligence-news.com/2024/02/06/uk-announces-over-100m-support-agile-ai-regulation/'}, {'title': 'Upcoming AI Events', 'link': 'https://www.artificialintelligence-news.com/events/'}, {'title': 'Pace of innovation in AI is...', 'link': 'https://www.artificialintelligence-news.com/2024/03/07/pace-of-innovation-in-ai-is-fierce-but-is-ethics-able-to-keep-up/'}], 'position': 10}], 'peopleAlsoAsk': [{'question': 'What is the newest technology in AI?', 'snippet': 'New Technologies in AI: Explainable AI (XAI) XAI uses various techniques that makes it one of the most unique models among all new technologies in AI. These include decision trees, linear models, and rule-based systems, which provide insights into how a model makes predictions.', 'title': '11 New Technologies in AI: All Trends of 2023-2024 - devabit', 'link': 'https://devabit.com/blog/top-11-new-technologies-in-ai-exploring-the-latest-trends/'}, {'question': 'What is the most advanced AI right now?', 'snippet': 'Otter.ai stands out as one of the most advanced AI assistants, offering features such as meeting transcription, live automated summaries, and action item creation.', 'title': '12 Most Advanced AI Assistants - Yahoo Finance', 'link': 'https://finance.yahoo.com/news/12-most-advanced-ai-assistants-131248411.html'}, {'question': 'What are AI doing right now?', 'snippet': 'It deploys algorithms and computer systems to learn, reason, and solve problems using large datasets. AI spans technologies like machine learning, natural language processing, and image generation, revolutionizing healthcare, finance, transportation, and creative domains.', 'title': 'What Can AI Do? 15 Common Uses in 2024 (Best Tips) - Elegant Themes', 'link': 'https://www.elegantthemes.com/blog/business/what-can-ai-do'}, {'question': 'Who is the latest AI robot?', 'snippet': \"Ameca is a human robot developed by Engineered Arts and released in 2022. The vendor claims it is “the world's most advanced human-shaped robot.” This humanoid-inspired robot is designed to replicate natural motion and facial expression, although it can't currently walk.\", 'title': '8 Most Advanced AI-Powered Robots and What They Can Do - Techopedia', 'link': 'https://www.techopedia.com/8-most-advanced-ai-powered-robots-and-what-they-can-do'}], 'relatedSearches': [{'query': 'Recent updates on ai agents today'}, {'query': 'News on artificial intelligence'}, {'query': 'Shocking AI News'}, {'query': 'What is artificial intelligence News article'}, {'query': 'AI related latest international news Today'}, {'query': 'Latest gen AI News'}, {'query': 'Latest report on AI'}, {'query': 'Robotics AI news'}]}\n",
            "**********************************************************\n",
            "\n",
            "--------------------------------------------------------------------------------\n"
          ]
        },
        {
          "output_type": "stream",
          "name": "stderr",
          "text": [
            "WARNING:autogen.io.base:No default IOStream has been set, defaulting to IOConsole.\n",
            "WARNING:autogen.io.base:No default IOStream has been set, defaulting to IOConsole.\n",
            "WARNING:autogen.io.base:No default IOStream has been set, defaulting to IOConsole.\n",
            "WARNING:autogen.io.base:No default IOStream has been set, defaulting to IOConsole.\n"
          ]
        },
        {
          "output_type": "stream",
          "name": "stdout",
          "text": [
            "moderator (to chat_manager):\n",
            "\n",
            "The search results provide several articles and sources that discuss recent updates on AI agents. To create a comprehensive document, we should scrape information from these sources. Let's start with the first three links:\n",
            "\n",
            "1. \"Forget Chatbots. AI Agents Are the Future - WIRED\" - https://www.wired.com/story/fast-forward-forget-chatbots-ai-agents-are-the-future/\n",
            "2. \"Tech Companies Bet the World is Ready for 'AI Agents' - Bloomberg\" - https://www.bloomberg.com/news/newsletters/2024-02-15/tech-companies-bet-the-world-is-ready-for-ai-agents\n",
            "3. \"Artificial Intelligence News - ScienceDaily\" - https://www.sciencedaily.com/news/computers_math/artificial_intelligence/\n",
            "\n",
            "We will use the web_scraping function to extract information from these sources.\n",
            "***** Suggested function call: web_scraping *****\n",
            "Arguments: \n",
            "{\n",
            "  \"url\": \"https://www.wired.com/story/fast-forward-forget-chatbots-ai-agents-are-the-future/\"\n",
            "}\n",
            "*************************************************\n",
            "\n",
            "--------------------------------------------------------------------------------\n"
          ]
        },
        {
          "output_type": "stream",
          "name": "stderr",
          "text": [
            "WARNING:autogen.io.base:No default IOStream has been set, defaulting to IOConsole.\n",
            "WARNING:autogen.io.base:No default IOStream has been set, defaulting to IOConsole.\n"
          ]
        },
        {
          "output_type": "stream",
          "name": "stdout",
          "text": [
            "\n",
            ">>>>>>>> EXECUTING FUNCTION web_scraping...\n"
          ]
        },
        {
          "output_type": "stream",
          "name": "stderr",
          "text": [
            "WARNING:autogen.io.base:No default IOStream has been set, defaulting to IOConsole.\n"
          ]
        },
        {
          "output_type": "stream",
          "name": "stdout",
          "text": [
            "9594\n",
            "user_proxy (to chat_manager):\n",
            "\n",
            "***** Response from calling function (web_scraping) *****\n",
            "Forget Chatbots. AI Agents Are the Future | WIREDSkip to main contentOpen Navigation MenuMenuStory SavedTo revisit this article, visit My Profile, then View saved stories.Close AlertForget Chatbots. AI Agents Are the FutureSecurityPoliticsGearBackchannelBusinessScienceCultureIdeasMerchStory SavedTo revisit this article, visit My Profile, then View saved stories.Close AlertSign InSearchSearchSecurityPoliticsGearBackchannelBusinessScienceCultureIdeasMerchPodcastsVideoNewslettersMagazineEventsWIRED InsiderWIRED ConsultingJobsCouponsWill KnightBusinessMar 14, 2024 12:00 PMForget Chatbots. AI Agents Are the FutureStartups and tech giants are trying to move from chatbots that offer help via text, to AI agents that can get stuff done. Recent demos include an AI coder called Devin and agents that play videogames.Photograph: Andriy Onufriyenko/Getty ImagesSave this storySaveSave this storySaveThis week a startup called Cognition AI caused a bit of a stir by releasing a demo showing an artificial intelligence program called Devin performing work usually done by well-paid software engineers. Chatbots like ChatGPT and Gemini can generate code, but Devin went further, planning how to solve a problem, writing the code, and then testing and implementing it.Devin’s creators brand it as an “AI software developer.” When asked to test how Meta’s open source language model Llama 2 performed when accessed via different companies hosting it, Devin generated a step-by-step plan for the project, generated code needed to access the APIs and run benchmarking tests, and created a website summarizing the results.It’s always hard to judge staged demos, but Cognition has shown Devin handling a wide range of impressive tasks. It wowed investors and engineers on X, receiving plenty of endorsements, and even inspired a few memes—including some predicting Devin will soon be responsible for a wave of tech industry layoffs.Sign Up TodayThis is an edition of WIRED's Fast Forward newsletter, a weekly dispatch from the future by Will Knight, exploring AI advances and other technology set to change our lives.Devin is just the latest, most polished example of a trend I’ve been tracking for a while—the emergence of AI agents that instead of just providing answers or advice about a problem presented by a human can take action to solve it. A few months back I test drove Auto-GPT, an open source program that attempts to do useful chores by taking actions on a person’s computer and on the web. Recently I tested another program called vimGPT to see how the visual skills of new AI models can help these agents browse the web more efficiently.I was impressed by my experiments with those agents. Yet for now, just like the language models that power them, they make quite a few errors. And when a piece of software is taking actions, not just generating text, one mistake can mean total failure—and potentially costly or dangerous consequences. Narrowing the range of tasks an agent can do to, say, a specific set of software engineering chores seems like a clever way to reduce the error rate, but there are still many potential ways to fail.Not only startups are building AI agents. Earlier this week I wrote about an agent called SIMA, developed by Google DeepMind, which plays video games including the truly bonkers title Goat Simulator 3. SIMA learned from watching human players how to do more than 600 fairly complicated tasks such as chopping down a tree or shooting an asteroid. Most significantly, it can do many of these actions successfully even in an unfamiliar game. Google DeepMind calls it a “generalist.”I suspect that Google has hopes that these agents will eventually go to work outside of video games, perhaps helping use the web on a user’s behalf or operate software for them. But video games make a good sandbox for developing and testing agents, by providing complex environments in which they can be tested and improved. “Making them more precise is something that we're actively working on,” Tim Harley, a research scientist at Google DeepMind, told me. “We've got various ideas.”You can expect a lot more news about AI agents in the coming months. Demis Hassabis, the CEO of Google DeepMind, recently told me that he plans to combine large language models with the work his company has previously done training AI programs to play video games to develop more capable and reliable agents. “This definitely is a huge area. We’re investing heavily in that direction, and I imagine others are as well.” Hassabis said. “It will be a step change in capabilities of these types of systems—when they start becoming more agent-like.”Most PopularSecurityThe Incognito Mode Myth Has Fully UnraveledDell CameronSecurityA Ghost Ship’s Doomed Journey Through the Gate of TearsMatt BurgessGearI’m a New Homeowner. An App Called Thumbtack Has Become a Lifesaver for MeJulian ChokkattuBusinessApple Store Employees Say Coworkers Were Disciplined for Supporting PalestiniansCaroline HaskinsYou Might Also Like …In your inbox: Introducing Politics Lab, your guide to election seasonGoogle used her to tout diversity. Now she’s suing for discriminationOur in-house physics whiz explains how heat pumps workThe big questions the Pentagon’s new UFO report fails to answerAirPods Pro or AirPods Max? These are the best Apple buds for your earsWill Knight is a senior writer for WIRED, covering artificial intelligence. He writes the Fast Forward newsletter that explores how advances in AI and other emerging technology are set to change our lives—sign up here. He was previously a senior editor at MIT Technology Review, where he wrote about fundamental... Read moreSenior WriterXTopicsFast Forwardartificial intelligencemachine learningGooglealgorithmsdeep learningDeepMindMore from WIREDInside the Creation of the World’s Most Powerful Open Source AI ModelStartup Databricks just released DBRX, the most powerful open source large language model yet—eclipsing Meta’s Llama 2.Will KnightApple’s MM1 AI Model Shows a Sleeping Giant Is Waking UpA research paper quietly released by Apple describes an AI model called MM1 that can answer questions and analyze images. It’s the biggest sign yet that Apple is developing generative AI capabilities.Will KnightWhy Elon Musk Had to Open Source Grok, His Answer to ChatGPTEarlier this month Elon Musk sued OpenAI for keeping its technology secret. Today he promised to give away his own “truth-seeking” chatbot Grok for free.Will KnightGoogle DeepMind’s Latest AI Agent Learned to Play Goat Simulator 3These AI agents can adapt to games they haven't played before. Google made them by feeding data on how humans play different video games to a language model like those behind the latest chatbots.Will KnightThe Fear That Inspired the Creation of OpenAIEmails released by OpenAI to refute a lawsuit from Elon Musk show how he, Sam Altman, and other cofounders were motivated by fears of Google's dominance.Will KnightPerplexity's Founder Was Inspired by Sundar Pichai. Now They’re Competing to Reinvent SearchAravind Srinivas grew up in the same city as Google’s CEO and developed an obsession with the company long before launching his own AI search startup.Lauren GoodeThe Quest to Give AI Chatbots a Hand—and an ArmRobotics startup Covariant is experimenting with a ChatGPT-style chatbot that can control a robotic arm, as a way to create machines that can be more helpful in the physical world.Will Knight8 Google Employees Invented Modern AI. Here’s the Inside StoryThey met by chance, got hooked on an idea, and wrote the “Transformers” paper—the most consequential tech breakthrough in recent history.Steven LevyWIRED is where tomorrow is realized. It is the essential source of information and ideas that make sense of a world in constant transformation. The WIRED conversation illuminates how technology is changing every aspect of our lives—from culture to business, science to design. The breakthroughs and innovations that we uncover lead to new ways of thinking, new connections, and new industries.More From WIREDSubscribeNewslettersFAQWIRED StaffEditorial StandardsArchiveRSSAccessibility HelpReviews and GuidesReviewsBuying GuidesCouponsMattressesElectric BikesFitness TrackersStreaming GuidesAdvertiseContact UsCustomer CareJobsPress CenterCondé Nast StoreUser AgreementPrivacy Policy & Cookie StatementYour California Privacy Rights© 2024 Condé Nast. All rights reserved. WIRED may earn a portion of sales from products that are purchased through our site as part of our Affiliate Partnerships with retailers. The material on this site may not be reproduced, distributed, transmitted, cached or otherwise used, except with the prior written permission of Condé Nast. Ad ChoicesSelect international siteUnited StatesLargeChevronItaliaJapónCzech Republic & SlovakiaFacebookXPinterestYouTubeInstagramTiktokManage PreferencesWe Care About Your PrivacyWe and our 167 partners store and/or access information on a device, such as unique IDs in cookies to process personal data. You may accept or manage your choices by clicking below or at any time in the privacy policy page. These choices will be signaled to our partners and will not affect browsing data.More InformationWe and our partners process data to provide:Use precise geolocation data. Actively scan device characteristics for identification. Store and/or access information on a device. Personalised advertising and content, advertising and content measurement, audience research and services development. \n",
            "        List of Partners (vendors)\n",
            "         I AcceptShow Purposes\n",
            "*********************************************************\n",
            "\n",
            "--------------------------------------------------------------------------------\n"
          ]
        },
        {
          "output_type": "stream",
          "name": "stderr",
          "text": [
            "WARNING:autogen.io.base:No default IOStream has been set, defaulting to IOConsole.\n",
            "WARNING:autogen.io.base:No default IOStream has been set, defaulting to IOConsole.\n",
            "WARNING:autogen.io.base:No default IOStream has been set, defaulting to IOConsole.\n",
            "WARNING:autogen.io.base:No default IOStream has been set, defaulting to IOConsole.\n"
          ]
        },
        {
          "output_type": "stream",
          "name": "stdout",
          "text": [
            "moderator (to chat_manager):\n",
            "\n",
            "***** Suggested function call: web_scraping *****\n",
            "Arguments: \n",
            "{\n",
            "  \"url\": \"https://www.bloomberg.com/news/newsletters/2024-02-15/tech-companies-bet-the-world-is-ready-for-ai-agents\"\n",
            "}\n",
            "*************************************************\n",
            "\n",
            "--------------------------------------------------------------------------------\n"
          ]
        },
        {
          "output_type": "stream",
          "name": "stderr",
          "text": [
            "WARNING:autogen.io.base:No default IOStream has been set, defaulting to IOConsole.\n",
            "WARNING:autogen.io.base:No default IOStream has been set, defaulting to IOConsole.\n"
          ]
        },
        {
          "output_type": "stream",
          "name": "stdout",
          "text": [
            "\n",
            ">>>>>>>> EXECUTING FUNCTION web_scraping...\n"
          ]
        },
        {
          "output_type": "stream",
          "name": "stderr",
          "text": [
            "WARNING:autogen.io.base:No default IOStream has been set, defaulting to IOConsole.\n"
          ]
        },
        {
          "output_type": "stream",
          "name": "stdout",
          "text": [
            "3907\n",
            "user_proxy (to chat_manager):\n",
            "\n",
            "***** Response from calling function (web_scraping) *****\n",
            "Tech Companies Bet the World is Ready for 'AI Agents' - Bloomberg\n",
            "\n",
            "\n",
            "\n",
            "\n",
            "\n",
            "\n",
            "\n",
            "\n",
            "\n",
            "\n",
            "\n",
            "Skip to content\n",
            "\n",
            "Bloomberg the Company & Its ProductsThe Company & its ProductsBloomberg Terminal Demo RequestBloomberg Anywhere Remote LoginBloomberg Anywhere LoginBloomberg Customer SupportCustomer Support \n",
            "\n",
            "\n",
            "\n",
            "\n",
            "BloombergConnecting decision makers to a dynamic network of information, people and ideas, Bloomberg quickly and accurately delivers business and financial information, news and insight around the world \n",
            "For CustomersBloomberg Anywhere Remote LoginSoftware UpdatesManage Products and Account Information \n",
            "SupportAmericas+1 212 318 2000EMEA+44 20 7330 7500Asia Pacific+65 6212 1000 \n",
            "\n",
            "\n",
            "CompanyAboutCareersDiversity and InclusionTech At BloombergPhilanthropySustainabilityBloomberg LondonBloomberg BetaGender-Equality Index \n",
            "CommunicationsPress AnnouncementsPress Contacts \n",
            "FollowFacebookInstagramLinkedInTwitterYouTube \n",
            "\n",
            "\n",
            "ProductsBloomberg TerminalDataTradingRiskComplianceIndices \n",
            "Industry ProductsBloomberg LawBloomberg TaxBloomberg GovernmentBloombergNEF \n",
            "\n",
            "\n",
            "MediaBloomberg MarketsBloomberg TechnologyBloomberg PursuitsBloomberg PoliticsBloomberg OpinionBloomberg BusinessweekBloomberg Live ConferencesBloomberg RadioBloomberg TelevisionNews Bureaus \n",
            "Media ServicesBloomberg Media DistributionAdvertising \n",
            "\n",
            "\n",
            "\n",
            "\n",
            "CompanyAboutCareersDiversity and InclusionTech At BloombergPhilanthropySustainabilityBloomberg LondonBloomberg BetaGender-Equality Index \n",
            "CommunicationsPress AnnouncementsPress Contacts \n",
            "FollowFacebookInstagramLinkedInTwitterYouTube \n",
            "\n",
            "\n",
            "ProductsBloomberg TerminalDataTradingRiskComplianceIndices \n",
            "Industry ProductsBloomberg LawBloomberg TaxBloomberg GovernmentBloomberg EnvironmentBloombergNEF \n",
            "\n",
            "\n",
            "MediaBloomberg MarketsBloomberg TechnologyBloomberg PursuitsBloomberg PoliticsBloomberg OpinionBloomberg BusinessweekBloomberg Live ConferencesBloomberg RadioBloomberg TelevisionNews Bureaus \n",
            "Media ServicesBloomberg Media DistributionAdvertising \n",
            "\n",
            "\n",
            "BloombergConnecting decision makers to a dynamic network of information, people and ideas, Bloomberg quickly and accurately delivers business and financial information, news and insight around the world \n",
            "For CustomersBloomberg Anywhere Remote LoginSoftware UpdatesManage Contracts and Orders \n",
            "SupportAmericas+1 212 318 2000EMEA+44 20 7330 7500Asia Pacific+65 6212 1000 \n",
            "\n",
            "\n",
            " \n",
            "\n",
            "\n",
            "Sign InSubscribeSearchLive TVMarketsChevron DownEconomicsIndustriesTechPoliticsBusinessweekOpinionMoreChevron DownUS EditionChevron DownMenuSubscribeThe AI Race:Startups to WatchAI WarfareGemini BacklashAI Unlocks Ancient SecretsHow AI Chatbots WorkBackForwardNewsletterTech Companies Bet the World is Ready for 'AI Agents'Google, OpenAI and other startups are touting a new frontier of artificial intelligence products that can perform more complex tasks for users.FacebookTwitterLinkedInEmailLinkGiftExpandPhotographer: Nicolas Maeterlinck/AFP/Getty ImagesFacebookTwitterLinkedInEmailLinkGiftGift this articleHave a confidential tip for our reporters? Get in TouchBefore it’s here, it’s on the Bloomberg TerminalBloomberg Terminal LEARN MOREFacebookTwitterLinkedInEmailLinkGiftBy Shirin GhaffaryFebruary 15, 2024 at 9:21 PM UTCBookmarkSaveIf 2023 was the year of the AI chatbot, this is shaping up to be the year of AI agents. But first... Three things to know:Have a confidential tip for our reporters? Get in TouchBefore it’s here, it’s on the Bloomberg TerminalBloomberg Terminal LEARN MOREHomeBTV+Market DataOpinionAudioOriginalsMagazineEventsNewsMarketsEconomicsTechnologyPoliticsGreenCryptoAIWork & LifeWealthPursuitsBusinessweekCityLabEqualityPursuitsWork ShiftMarket DataStocksCommoditiesRates & BondsCurrenciesFuturesSectorsEconomic CalendarExploreNewslettersExplainersThe Big TakeGraphicsSubmit a TipAbout UsTerms of ServiceDo Not Sell or Share My Personal InformationTrademarksPrivacy PolicyCareersMade in NYCAdvertiseAd ChoicesHelp©2024 Bloomberg L.P. All Rights Reserved.\n",
            "*********************************************************\n",
            "\n",
            "--------------------------------------------------------------------------------\n"
          ]
        },
        {
          "output_type": "stream",
          "name": "stderr",
          "text": [
            "WARNING:autogen.io.base:No default IOStream has been set, defaulting to IOConsole.\n",
            "WARNING:autogen.io.base:No default IOStream has been set, defaulting to IOConsole.\n",
            "WARNING:autogen.io.base:No default IOStream has been set, defaulting to IOConsole.\n",
            "WARNING:autogen.io.base:No default IOStream has been set, defaulting to IOConsole.\n"
          ]
        },
        {
          "output_type": "stream",
          "name": "stdout",
          "text": [
            "moderator (to chat_manager):\n",
            "\n",
            "***** Suggested function call: web_scraping *****\n",
            "Arguments: \n",
            "{\n",
            "  \"url\": \"https://www.sciencedaily.com/news/computers_math/artificial_intelligence/\"\n",
            "}\n",
            "*************************************************\n",
            "\n",
            "--------------------------------------------------------------------------------\n"
          ]
        },
        {
          "output_type": "stream",
          "name": "stderr",
          "text": [
            "WARNING:autogen.io.base:No default IOStream has been set, defaulting to IOConsole.\n",
            "WARNING:autogen.io.base:No default IOStream has been set, defaulting to IOConsole.\n"
          ]
        },
        {
          "output_type": "stream",
          "name": "stdout",
          "text": [
            "\n",
            ">>>>>>>> EXECUTING FUNCTION web_scraping...\n",
            "24274\n"
          ]
        },
        {
          "output_type": "stream",
          "name": "stderr",
          "text": [
            "/usr/local/lib/python3.10/dist-packages/langchain_core/_api/deprecation.py:117: LangChainDeprecationWarning: The class `langchain_community.chat_models.openai.ChatOpenAI` was deprecated in langchain-community 0.0.10 and will be removed in 0.2.0. An updated version of the class exists in the langchain-openai package and should be used instead. To use it run `pip install -U langchain-openai` and import as `from langchain_openai import ChatOpenAI`.\n",
            "  warn_deprecated(\n",
            "/usr/local/lib/python3.10/dist-packages/langchain_core/_api/deprecation.py:117: LangChainDeprecationWarning: The function `run` was deprecated in LangChain 0.1.0 and will be removed in 0.2.0. Use invoke instead.\n",
            "  warn_deprecated(\n",
            "WARNING:autogen.io.base:No default IOStream has been set, defaulting to IOConsole.\n"
          ]
        },
        {
          "output_type": "stream",
          "name": "stdout",
          "text": [
            "user_proxy (to chat_manager):\n",
            "\n",
            "***** Response from calling function (web_scraping) *****\n",
            "The article provides a summary of recent news and research in the field of artificial intelligence. It covers various topics such as the development of biomimetic olfactory sensors, robots' ability to interact with humans, giving robots common sense, and the behavior of robotic metamaterials. Other topics include the use of AI to detect COVID-19 in lung ultrasound images, communication between artificial intelligences, mathematical formulas behind neural network learning, public perceptions of advanced army robots, and the capabilities of a robot named ANYmal. The article also mentions advancements in haptic devices, AI-assisted hockey data tracking, machine learning in imageomics, collision avoidance in human-robot interactions, and the use of AI in health software design. Additionally, the article discusses developments in the field of robotics and AI, including new soft robot designs, dressing robots, and AI models for streamlining operations in robotic warehouses. It also mentions the fabrication of biomimetic robots, methods for doubling computer processing speeds, and innovations in depth from focus/defocus for computer vision systems. The article is part of a website that covers various topics such as internet, mobile computing, photography, quantum computers, robotics, software, and more. The website offers free subscriptions to stay informed with their email newsletter or RSS feeds.\n",
            "*********************************************************\n",
            "\n",
            "--------------------------------------------------------------------------------\n"
          ]
        },
        {
          "output_type": "stream",
          "name": "stderr",
          "text": [
            "WARNING:autogen.io.base:No default IOStream has been set, defaulting to IOConsole.\n",
            "WARNING:autogen.io.base:No default IOStream has been set, defaulting to IOConsole.\n",
            "WARNING:autogen.io.base:No default IOStream has been set, defaulting to IOConsole.\n",
            "WARNING:autogen.io.base:No default IOStream has been set, defaulting to IOConsole.\n"
          ]
        },
        {
          "output_type": "stream",
          "name": "stdout",
          "text": [
            "assistant (to chat_manager):\n",
            "\n",
            "Based on the information obtained from the web scraping, here is a summary of the recent updates on AI agents:\n",
            "\n",
            "1. From the Wired article, we learn about the shift from chatbots to AI agents. Startups and tech giants are moving from chatbots that offer help via text, to AI agents that can perform tasks. A startup called Cognition AI released a demo showing an AI program called Devin performing work usually done by software engineers. Devin is branded as an \"AI software developer\" and can plan how to solve a problem, write the code, and then test and implement it. Google DeepMind has also developed an agent called SIMA, which plays video games and can perform over 600 tasks. \n",
            "\n",
            "2. The Bloomberg article mentions that 2023 was the year of the AI chatbot, and 2024 is shaping up to be the year of AI agents. Google, OpenAI, and other startups are touting a new frontier of AI products that can perform more complex tasks for users.\n",
            "\n",
            "3. The ScienceDaily article provides a summary of recent news and research in the field of AI. It covers various topics such as the development of biomimetic olfactory sensors, robots' ability to interact with humans, giving robots common sense, and the behavior of robotic metamaterials. Other topics include the use of AI to detect COVID-19 in lung ultrasound images, communication between artificial intelligences, mathematical formulas behind neural network learning, public perceptions of advanced army robots, and the capabilities of a robot named ANYmal.\n",
            "\n",
            "Now, let's create a Google Doc with this information and share it with the provided email address.\n",
            "***** Suggested function call: create_and_share_google_doc *****\n",
            "Arguments: \n",
            "{\n",
            "  \"data\": \"Based on the information obtained from the web scraping, here is a summary of the recent updates on AI agents:\\n\\n1. From the Wired article, we learn about the shift from chatbots to AI agents. Startups and tech giants are moving from chatbots that offer help via text, to AI agents that can perform tasks. A startup called Cognition AI released a demo showing an AI program called Devin performing work usually done by software engineers. Devin is branded as an \\\"AI software developer\\\" and can plan how to solve a problem, write the code, and then test and implement it. Google DeepMind has also developed an agent called SIMA, which plays video games and can perform over 600 tasks. \\n\\n2. The Bloomberg article mentions that 2023 was the year of the AI chatbot, and 2024 is shaping up to be the year of AI agents. Google, OpenAI, and other startups are touting a new frontier of AI products that can perform more complex tasks for users.\\n\\n3. The ScienceDaily article provides a summary of recent news and research in the field of AI. It covers various topics such as the development of biomimetic olfactory sensors, robots' ability to interact with humans, giving robots common sense, and the behavior of robotic metamaterials. Other topics include the use of AI to detect COVID-19 in lung ultrasound images, communication between artificial intelligences, mathematical formulas behind neural network learning, public perceptions of advanced army robots, and the capabilities of a robot named ANYmal.\",\n",
            "  \"document_name\": \"Recent Updates on AI Agents\",\n",
            "  \"email\": \"abdulmaajith0703@gmail.com\"\n",
            "}\n",
            "****************************************************************\n",
            "\n",
            "--------------------------------------------------------------------------------\n"
          ]
        },
        {
          "output_type": "stream",
          "name": "stderr",
          "text": [
            "WARNING:autogen.io.base:No default IOStream has been set, defaulting to IOConsole.\n",
            "WARNING:autogen.io.base:No default IOStream has been set, defaulting to IOConsole.\n"
          ]
        },
        {
          "output_type": "stream",
          "name": "stdout",
          "text": [
            "\n",
            ">>>>>>>> EXECUTING FUNCTION create_and_share_google_doc...\n",
            "Document 'Recent Updates on AI Agents' created with ID: 1B98kg8T0X3RG7WmhjxQ7FZLf2m12ko8Ce9GmTOFQFZ8\n",
            "Document 'Recent Updates on AI Agents' updated with custom data.\n"
          ]
        },
        {
          "output_type": "stream",
          "name": "stderr",
          "text": [
            "WARNING:autogen.io.base:No default IOStream has been set, defaulting to IOConsole.\n"
          ]
        },
        {
          "output_type": "stream",
          "name": "stdout",
          "text": [
            "Document shared with abdulmaajith0703@gmail.com\n",
            "user_proxy (to chat_manager):\n",
            "\n",
            "***** Response from calling function (create_and_share_google_doc) *****\n",
            "{'Document \\'Recent Updates on AI Agents\\' updated with custom data: Based on the information obtained from the web scraping, here is a summary of the recent updates on AI agents:\\n\\n1. From the Wired article, we learn about the shift from chatbots to AI agents. Startups and tech giants are moving from chatbots that offer help via text, to AI agents that can perform tasks. A startup called Cognition AI released a demo showing an AI program called Devin performing work usually done by software engineers. Devin is branded as an \"AI software developer\" and can plan how to solve a problem, write the code, and then test and implement it. Google DeepMind has also developed an agent called SIMA, which plays video games and can perform over 600 tasks. \\n\\n2. The Bloomberg article mentions that 2023 was the year of the AI chatbot, and 2024 is shaping up to be the year of AI agents. Google, OpenAI, and other startups are touting a new frontier of AI products that can perform more complex tasks for users.\\n\\n3. The ScienceDaily article provides a summary of recent news and research in the field of AI. It covers various topics such as the development of biomimetic olfactory sensors, robots\\' ability to interact with humans, giving robots common sense, and the behavior of robotic metamaterials. Other topics include the use of AI to detect COVID-19 in lung ultrasound images, communication between artificial intelligences, mathematical formulas behind neural network learning, public perceptions of advanced army robots, and the capabilities of a robot named ANYmal.', \"Document 'Recent Updates on AI Agents' created with ID: 1B98kg8T0X3RG7WmhjxQ7FZLf2m12ko8Ce9GmTOFQFZ8\", 'Document saved onto Drive: abdulmaajith0703@gmail.com, please check shared folder on your GDrive'}\n",
            "************************************************************************\n",
            "\n",
            "--------------------------------------------------------------------------------\n"
          ]
        },
        {
          "output_type": "stream",
          "name": "stderr",
          "text": [
            "WARNING:autogen.io.base:No default IOStream has been set, defaulting to IOConsole.\n",
            "WARNING:autogen.agentchat.groupchat:GroupChat select_speaker failed to resolve the next speaker's name. This is because the speaker selection OAI call returned:\n",
            "TERMINATE\n",
            "WARNING:autogen.io.base:No default IOStream has been set, defaulting to IOConsole.\n",
            "WARNING:autogen.io.base:No default IOStream has been set, defaulting to IOConsole.\n",
            "WARNING:autogen.io.base:No default IOStream has been set, defaulting to IOConsole.\n"
          ]
        },
        {
          "output_type": "stream",
          "name": "stdout",
          "text": [
            "moderator (to chat_manager):\n",
            "\n",
            "The Google Doc titled \"Recent Updates on AI Agents\" has been created and shared with the email address abdulmaajith0703@gmail.com. Please check the shared folder on your Google Drive to access the document. \n",
            "\n",
            "TERMINATE\n",
            "\n",
            "--------------------------------------------------------------------------------\n"
          ]
        },
        {
          "output_type": "stream",
          "name": "stderr",
          "text": [
            "WARNING:autogen.io.base:No default IOStream has been set, defaulting to IOConsole.\n",
            "WARNING:autogen.io.base:No default IOStream has been set, defaulting to IOConsole.\n"
          ]
        },
        {
          "output_type": "execute_result",
          "data": {
            "text/plain": [
              "ChatResult(chat_id=None, chat_history=[{'content': 'Create a google Docs on the topic: Recent Updates on AI Agents, and share it with this email: abdulmaajith0703@gmail.com', 'role': 'assistant'}, {'content': \"Sure, let's start by searching for recent updates on AI agents.\", 'function_call': {'arguments': '{\\n  \"query\": \"Recent Updates on AI Agents\"\\n}', 'name': 'google_search'}, 'name': 'assistant', 'role': 'assistant'}, {'content': '{\\'searchParameters\\': {\\'q\\': \\'Recent Updates on AI Agents\\', \\'type\\': \\'search\\', \\'engine\\': \\'google\\'}, \\'organic\\': [{\\'title\\': \\'Forget Chatbots. AI Agents Are the Future - WIRED\\', \\'link\\': \\'https://www.wired.com/story/fast-forward-forget-chatbots-ai-agents-are-the-future/\\', \\'snippet\\': \\'Startups and tech giants are trying to move from chatbots that offer help via text, to AI agents that can get stuff done. Recent demos ...\\', \\'date\\': \\'Mar 14, 2024\\', \\'attributes\\': {\\'Missing\\': \\'Updates | Show results with:Updates\\'}, \\'position\\': 1}, {\\'title\\': \"Tech Companies Bet the World is Ready for \\'AI Agents\\' - Bloomberg\", \\'link\\': \\'https://www.bloomberg.com/news/newsletters/2024-02-15/tech-companies-bet-the-world-is-ready-for-ai-agents\\', \\'snippet\\': \\'A number of startups, including Adept, Imbue and Luda, have raised millions in funding to pursue agents, a technology dubbed agentic AI. This ...\\', \\'date\\': \\'Feb 15, 2024\\', \\'position\\': 2}, {\\'title\\': \\'Artificial Intelligence News - ScienceDaily\\', \\'link\\': \\'https://www.sciencedaily.com/news/computers_math/artificial_intelligence/\\', \\'snippet\\': \\'Artificial Intelligence News. Everything on AI including futuristic robots with artificial intelligence, computer models of human intelligence and more.\\', \\'position\\': 3}, {\\'title\\': \"Generative AI\\'s next act: Autonomous agents - Axios\", \\'link\\': \\'https://www.axios.com/2024/02/26/generative-ai-next-act-autonomous-agents\\', \\'snippet\\': \\'Driving the news: ChatGPT maker OpenAI is deep into development of AI agent systems, as the Information recently reported. Former Salesforce ...\\', \\'date\\': \\'Feb 26, 2024\\', \\'position\\': 4}, {\\'title\\': \"AI Agents Are Coming! Here\\'s What To Expect... - YouTube\", \\'link\\': \\'https://www.youtube.com/watch?v=flvBnAdYWNM\\', \\'snippet\\': \"AI Agents Are Coming! Here\\'s What To Expect... Keep Your Digital Life Private and Be Safe ...\", \\'date\\': \\'Mar 18, 2024\\', \\'attributes\\': {\\'Duration\\': \\'11:22\\', \\'Posted\\': \\'Mar 18, 2024\\'}, \\'imageUrl\\': \\'https://i.ytimg.com/vi/flvBnAdYWNM/default.jpg?sqp=-oaymwEECHgQQw&rs=AMzJL3lY2AlyNPYNV4qArNI4m4JahbZTbQ\\', \\'position\\': 5}, {\\'title\\': \\'AI digital agents: sending computer agents on personal tasks\\', \\'link\\': \\'https://www.insidehighered.com/opinion/blogs/online-trending-now/2024/03/27/ai-digital-agents-sending-computer-agents-personal\\', \\'snippet\\': \\'We have discussed much about the development of AI (artificial intelligence) capabilities in this column. We have reached the point of ...\\', \\'date\\': \\'7 days ago\\', \\'position\\': 6}, {\\'title\\': \\'AI agents help explain other AI systems | MIT News\\', \\'link\\': \\'https://news.mit.edu/2024/ai-agents-help-explain-other-ai-systems-0103\\', \\'snippet\\': \\'Explaining the behavior of trained neural networks remains a compelling puzzle, especially as these models grow in size and sophistication.\\', \\'date\\': \\'Jan 3, 2024\\', \\'attributes\\': {\\'Missing\\': \\'Updates | Show results with:Updates\\'}, \\'position\\': 7}, {\\'title\\': \\'AI Agent News Update - LinkedIn\\', \\'link\\': \\'https://www.linkedin.com/pulse/ai-agent-news-update-phroneticai-vyxdc?trk=public_post\\', \\'snippet\\': \"Here\\'s a quick rundown on some recent developments in the world of AI agents: 1. AI Software Engineer? Cognition Labs claims to have created ...\", \\'date\\': \\'Mar 13, 2024\\', \\'position\\': 8}, {\\'title\\': \\'Autonomous AI agents: A progress report | TechTarget\\', \\'link\\': \\'https://www.techtarget.com/searchenterpriseai/feature/Autonomous-AI-agents-A-progress-report\\', \\'snippet\\': \\'Dozens of other autonomous AI agent tools have been released, including AutoGPT, LlamaIndex, AgentGPT, MetaGPT, AutoChain, PromptChainer and ...\\', \\'date\\': \\'Feb 28, 2024\\', \\'position\\': 9}, {\\'title\\': \\'AI News - Artificial Intelligence News\\', \\'link\\': \\'https://www.artificialintelligence-news.com/\\', \\'snippet\\': \\'Artificial Intelligence News provides the latest AI news and trends. Explore industry research and reports from the frontline of AI technology news.\\', \\'sitelinks\\': [{\\'title\\': \\'About AI News\\', \\'link\\': \\'https://www.artificialintelligence-news.com/about-us/\\'}, {\\'title\\': \\'AI regulation\\', \\'link\\': \\'https://www.artificialintelligence-news.com/2024/02/06/uk-announces-over-100m-support-agile-ai-regulation/\\'}, {\\'title\\': \\'Upcoming AI Events\\', \\'link\\': \\'https://www.artificialintelligence-news.com/events/\\'}, {\\'title\\': \\'Pace of innovation in AI is...\\', \\'link\\': \\'https://www.artificialintelligence-news.com/2024/03/07/pace-of-innovation-in-ai-is-fierce-but-is-ethics-able-to-keep-up/\\'}], \\'position\\': 10}], \\'peopleAlsoAsk\\': [{\\'question\\': \\'What is the newest technology in AI?\\', \\'snippet\\': \\'New Technologies in AI: Explainable AI (XAI) XAI uses various techniques that makes it one of the most unique models among all new technologies in AI. These include decision trees, linear models, and rule-based systems, which provide insights into how a model makes predictions.\\', \\'title\\': \\'11 New Technologies in AI: All Trends of 2023-2024 - devabit\\', \\'link\\': \\'https://devabit.com/blog/top-11-new-technologies-in-ai-exploring-the-latest-trends/\\'}, {\\'question\\': \\'What is the most advanced AI right now?\\', \\'snippet\\': \\'Otter.ai stands out as one of the most advanced AI assistants, offering features such as meeting transcription, live automated summaries, and action item creation.\\', \\'title\\': \\'12 Most Advanced AI Assistants - Yahoo Finance\\', \\'link\\': \\'https://finance.yahoo.com/news/12-most-advanced-ai-assistants-131248411.html\\'}, {\\'question\\': \\'What are AI doing right now?\\', \\'snippet\\': \\'It deploys algorithms and computer systems to learn, reason, and solve problems using large datasets. AI spans technologies like machine learning, natural language processing, and image generation, revolutionizing healthcare, finance, transportation, and creative domains.\\', \\'title\\': \\'What Can AI Do? 15 Common Uses in 2024 (Best Tips) - Elegant Themes\\', \\'link\\': \\'https://www.elegantthemes.com/blog/business/what-can-ai-do\\'}, {\\'question\\': \\'Who is the latest AI robot?\\', \\'snippet\\': \"Ameca is a human robot developed by Engineered Arts and released in 2022. The vendor claims it is “the world\\'s most advanced human-shaped robot.” This humanoid-inspired robot is designed to replicate natural motion and facial expression, although it can\\'t currently walk.\", \\'title\\': \\'8 Most Advanced AI-Powered Robots and What They Can Do - Techopedia\\', \\'link\\': \\'https://www.techopedia.com/8-most-advanced-ai-powered-robots-and-what-they-can-do\\'}], \\'relatedSearches\\': [{\\'query\\': \\'Recent updates on ai agents today\\'}, {\\'query\\': \\'News on artificial intelligence\\'}, {\\'query\\': \\'Shocking AI News\\'}, {\\'query\\': \\'What is artificial intelligence News article\\'}, {\\'query\\': \\'AI related latest international news Today\\'}, {\\'query\\': \\'Latest gen AI News\\'}, {\\'query\\': \\'Latest report on AI\\'}, {\\'query\\': \\'Robotics AI news\\'}]}', 'name': 'google_search', 'role': 'function'}, {'content': 'The search results provide several articles and sources that discuss recent updates on AI agents. To create a comprehensive document, we should scrape information from these sources. Let\\'s start with the first three links:\\n\\n1. \"Forget Chatbots. AI Agents Are the Future - WIRED\" - https://www.wired.com/story/fast-forward-forget-chatbots-ai-agents-are-the-future/\\n2. \"Tech Companies Bet the World is Ready for \\'AI Agents\\' - Bloomberg\" - https://www.bloomberg.com/news/newsletters/2024-02-15/tech-companies-bet-the-world-is-ready-for-ai-agents\\n3. \"Artificial Intelligence News - ScienceDaily\" - https://www.sciencedaily.com/news/computers_math/artificial_intelligence/\\n\\nWe will use the web_scraping function to extract information from these sources.', 'function_call': {'arguments': '{\\n  \"url\": \"https://www.wired.com/story/fast-forward-forget-chatbots-ai-agents-are-the-future/\"\\n}', 'name': 'web_scraping'}, 'name': 'moderator', 'role': 'assistant'}, {'content': \"Forget Chatbots. AI Agents Are the Future | WIREDSkip to main contentOpen Navigation MenuMenuStory SavedTo revisit this article, visit My Profile, then View saved stories.Close AlertForget Chatbots. AI Agents Are the FutureSecurityPoliticsGearBackchannelBusinessScienceCultureIdeasMerchStory SavedTo revisit this article, visit My Profile, then View saved stories.Close AlertSign InSearchSearchSecurityPoliticsGearBackchannelBusinessScienceCultureIdeasMerchPodcastsVideoNewslettersMagazineEventsWIRED InsiderWIRED ConsultingJobsCouponsWill KnightBusinessMar 14, 2024 12:00 PMForget Chatbots. AI Agents Are the FutureStartups and tech giants are trying to move from chatbots that offer help via text, to AI agents that can get stuff done. Recent demos include an AI coder called Devin and agents that play videogames.Photograph: Andriy Onufriyenko/Getty ImagesSave this storySaveSave this storySaveThis week a startup called Cognition AI caused a bit of a stir by releasing a demo showing an artificial intelligence program called Devin performing work usually done by well-paid software engineers. Chatbots like ChatGPT and Gemini can generate code, but Devin went further, planning how to solve a problem, writing the code, and then testing and implementing it.Devin’s creators brand it as an “AI software developer.” When asked to test how Meta’s open source language model Llama 2 performed when accessed via different companies hosting it, Devin generated a step-by-step plan for the project, generated code needed to access the APIs and run benchmarking tests, and created a website summarizing the results.It’s always hard to judge staged demos, but Cognition has shown Devin handling a wide range of impressive tasks. It wowed investors and engineers on X, receiving plenty of endorsements, and even inspired a few memes—including some predicting Devin will soon be responsible for a wave of tech industry layoffs.Sign Up TodayThis is an edition of WIRED's Fast Forward newsletter, a weekly dispatch from the future by Will Knight, exploring AI advances and other technology set to change our lives.Devin is just the latest, most polished example of a trend I’ve been tracking for a while—the emergence of AI agents that instead of just providing answers or advice about a problem presented by a human can take action to solve it. A few months back I test drove Auto-GPT, an open source program that attempts to do useful chores by taking actions on a person’s computer and on the web. Recently I tested another program called vimGPT to see how the visual skills of new AI models can help these agents browse the web more efficiently.I was impressed by my experiments with those agents. Yet for now, just like the language models that power them, they make quite a few errors. And when a piece of software is taking actions, not just generating text, one mistake can mean total failure—and potentially costly or dangerous consequences. Narrowing the range of tasks an agent can do to, say, a specific set of software engineering chores seems like a clever way to reduce the error rate, but there are still many potential ways to fail.Not only startups are building AI agents. Earlier this week I wrote about an agent called SIMA, developed by Google DeepMind, which plays video games including the truly bonkers title Goat Simulator 3. SIMA learned from watching human players how to do more than 600 fairly complicated tasks such as chopping down a tree or shooting an asteroid. Most significantly, it can do many of these actions successfully even in an unfamiliar game. Google DeepMind calls it a “generalist.”I suspect that Google has hopes that these agents will eventually go to work outside of video games, perhaps helping use the web on a user’s behalf or operate software for them. But video games make a good sandbox for developing and testing agents, by providing complex environments in which they can be tested and improved. “Making them more precise is something that we're actively working on,” Tim Harley, a research scientist at Google DeepMind, told me. “We've got various ideas.”You can expect a lot more news about AI agents in the coming months. Demis Hassabis, the CEO of Google DeepMind, recently told me that he plans to combine large language models with the work his company has previously done training AI programs to play video games to develop more capable and reliable agents. “This definitely is a huge area. We’re investing heavily in that direction, and I imagine others are as well.” Hassabis said. “It will be a step change in capabilities of these types of systems—when they start becoming more agent-like.”Most PopularSecurityThe Incognito Mode Myth Has Fully UnraveledDell CameronSecurityA Ghost Ship’s Doomed Journey Through the Gate of TearsMatt BurgessGearI’m a New Homeowner. An App Called Thumbtack Has Become a Lifesaver for MeJulian ChokkattuBusinessApple Store Employees Say Coworkers Were Disciplined for Supporting PalestiniansCaroline HaskinsYou Might Also Like …In your inbox: Introducing Politics Lab, your guide to election seasonGoogle used her to tout diversity. Now she’s suing for discriminationOur in-house physics whiz explains how heat pumps workThe big questions the Pentagon’s new UFO report fails to answerAirPods Pro or AirPods Max? These are the best Apple buds for your earsWill Knight is a senior writer for WIRED, covering artificial intelligence. He writes the Fast Forward newsletter that explores how advances in AI and other emerging technology are set to change our lives—sign up here. He was previously a senior editor at MIT Technology Review, where he wrote about fundamental... Read moreSenior WriterXTopicsFast Forwardartificial intelligencemachine learningGooglealgorithmsdeep learningDeepMindMore from WIREDInside the Creation of the World’s Most Powerful Open Source AI ModelStartup Databricks just released DBRX, the most powerful open source large language model yet—eclipsing Meta’s Llama 2.Will KnightApple’s MM1 AI Model Shows a Sleeping Giant Is Waking UpA research paper quietly released by Apple describes an AI model called MM1 that can answer questions and analyze images. It’s the biggest sign yet that Apple is developing generative AI capabilities.Will KnightWhy Elon Musk Had to Open Source Grok, His Answer to ChatGPTEarlier this month Elon Musk sued OpenAI for keeping its technology secret. Today he promised to give away his own “truth-seeking” chatbot Grok for free.Will KnightGoogle DeepMind’s Latest AI Agent Learned to Play Goat Simulator 3These AI agents can adapt to games they haven't played before. Google made them by feeding data on how humans play different video games to a language model like those behind the latest chatbots.Will KnightThe Fear That Inspired the Creation of OpenAIEmails released by OpenAI to refute a lawsuit from Elon Musk show how he, Sam Altman, and other cofounders were motivated by fears of Google's dominance.Will KnightPerplexity's Founder Was Inspired by Sundar Pichai. Now They’re Competing to Reinvent SearchAravind Srinivas grew up in the same city as Google’s CEO and developed an obsession with the company long before launching his own AI search startup.Lauren GoodeThe Quest to Give AI Chatbots a Hand—and an ArmRobotics startup Covariant is experimenting with a ChatGPT-style chatbot that can control a robotic arm, as a way to create machines that can be more helpful in the physical world.Will Knight8 Google Employees Invented Modern AI. Here’s the Inside StoryThey met by chance, got hooked on an idea, and wrote the “Transformers” paper—the most consequential tech breakthrough in recent history.Steven LevyWIRED is where tomorrow is realized. It is the essential source of information and ideas that make sense of a world in constant transformation. The WIRED conversation illuminates how technology is changing every aspect of our lives—from culture to business, science to design. The breakthroughs and innovations that we uncover lead to new ways of thinking, new connections, and new industries.More From WIREDSubscribeNewslettersFAQWIRED StaffEditorial StandardsArchiveRSSAccessibility HelpReviews and GuidesReviewsBuying GuidesCouponsMattressesElectric BikesFitness TrackersStreaming GuidesAdvertiseContact UsCustomer CareJobsPress CenterCondé Nast StoreUser AgreementPrivacy Policy & Cookie StatementYour California Privacy Rights© 2024 Condé Nast. All rights reserved. WIRED may earn a portion of sales from products that are purchased through our site as part of our Affiliate Partnerships with retailers. The material on this site may not be reproduced, distributed, transmitted, cached or otherwise used, except with the prior written permission of Condé Nast. Ad ChoicesSelect international siteUnited StatesLargeChevronItaliaJapónCzech Republic & SlovakiaFacebookXPinterestYouTubeInstagramTiktokManage PreferencesWe Care About Your PrivacyWe and our 167 partners store and/or access information on a device, such as unique IDs in cookies to process personal data. You may accept or manage your choices by clicking below or at any time in the privacy policy page. These choices will be signaled to our partners and will not affect browsing data.More InformationWe and our partners process data to provide:Use precise geolocation data. Actively scan device characteristics for identification. Store and/or access information on a device. Personalised advertising and content, advertising and content measurement, audience research and services development. \\n        List of Partners (vendors)\\n         I AcceptShow Purposes\", 'name': 'web_scraping', 'role': 'function'}, {'content': '', 'function_call': {'arguments': '{\\n  \"url\": \"https://www.bloomberg.com/news/newsletters/2024-02-15/tech-companies-bet-the-world-is-ready-for-ai-agents\"\\n}', 'name': 'web_scraping'}, 'name': 'moderator', 'role': 'assistant'}, {'content': \"Tech Companies Bet the World is Ready for 'AI Agents' - Bloomberg\\n\\n\\n\\n\\n\\n\\n\\n\\n\\n\\n\\nSkip to content\\n\\nBloomberg the Company & Its ProductsThe Company & its ProductsBloomberg Terminal Demo RequestBloomberg Anywhere Remote LoginBloomberg Anywhere LoginBloomberg Customer SupportCustomer Support \\n\\n\\n\\n\\nBloombergConnecting decision makers to a dynamic network of information, people and ideas, Bloomberg quickly and accurately delivers business and financial information, news and insight around the world \\nFor CustomersBloomberg Anywhere Remote LoginSoftware UpdatesManage Products and Account Information \\nSupportAmericas+1 212 318 2000EMEA+44 20 7330 7500Asia Pacific+65 6212 1000 \\n\\n\\nCompanyAboutCareersDiversity and InclusionTech At BloombergPhilanthropySustainabilityBloomberg LondonBloomberg BetaGender-Equality Index \\nCommunicationsPress AnnouncementsPress Contacts \\nFollowFacebookInstagramLinkedInTwitterYouTube \\n\\n\\nProductsBloomberg TerminalDataTradingRiskComplianceIndices \\nIndustry ProductsBloomberg LawBloomberg TaxBloomberg GovernmentBloombergNEF \\n\\n\\nMediaBloomberg MarketsBloomberg TechnologyBloomberg PursuitsBloomberg PoliticsBloomberg OpinionBloomberg BusinessweekBloomberg Live ConferencesBloomberg RadioBloomberg TelevisionNews Bureaus \\nMedia ServicesBloomberg Media DistributionAdvertising \\n\\n\\n\\n\\nCompanyAboutCareersDiversity and InclusionTech At BloombergPhilanthropySustainabilityBloomberg LondonBloomberg BetaGender-Equality Index \\nCommunicationsPress AnnouncementsPress Contacts \\nFollowFacebookInstagramLinkedInTwitterYouTube \\n\\n\\nProductsBloomberg TerminalDataTradingRiskComplianceIndices \\nIndustry ProductsBloomberg LawBloomberg TaxBloomberg GovernmentBloomberg EnvironmentBloombergNEF \\n\\n\\nMediaBloomberg MarketsBloomberg TechnologyBloomberg PursuitsBloomberg PoliticsBloomberg OpinionBloomberg BusinessweekBloomberg Live ConferencesBloomberg RadioBloomberg TelevisionNews Bureaus \\nMedia ServicesBloomberg Media DistributionAdvertising \\n\\n\\nBloombergConnecting decision makers to a dynamic network of information, people and ideas, Bloomberg quickly and accurately delivers business and financial information, news and insight around the world \\nFor CustomersBloomberg Anywhere Remote LoginSoftware UpdatesManage Contracts and Orders \\nSupportAmericas+1 212 318 2000EMEA+44 20 7330 7500Asia Pacific+65 6212 1000 \\n\\n\\n \\n\\n\\nSign InSubscribeSearchLive TVMarketsChevron DownEconomicsIndustriesTechPoliticsBusinessweekOpinionMoreChevron DownUS EditionChevron DownMenuSubscribeThe AI Race:Startups to WatchAI WarfareGemini BacklashAI Unlocks Ancient SecretsHow AI Chatbots WorkBackForwardNewsletterTech Companies Bet the World is Ready for 'AI Agents'Google, OpenAI and other startups are touting a new frontier of artificial intelligence products that can perform more complex tasks for users.FacebookTwitterLinkedInEmailLinkGiftExpandPhotographer: Nicolas Maeterlinck/AFP/Getty ImagesFacebookTwitterLinkedInEmailLinkGiftGift this articleHave a confidential tip for our reporters? Get in TouchBefore it’s here, it’s on the Bloomberg\\xa0TerminalBloomberg Terminal LEARN MOREFacebookTwitterLinkedInEmailLinkGiftBy Shirin GhaffaryFebruary 15, 2024 at 9:21 PM UTCBookmarkSaveIf 2023 was the year of the AI chatbot, this is shaping up to be the year of AI agents. But first... Three things to know:Have a confidential tip for our reporters? Get in TouchBefore it’s here, it’s on the Bloomberg\\xa0TerminalBloomberg Terminal LEARN MOREHomeBTV+Market DataOpinionAudioOriginalsMagazineEventsNewsMarketsEconomicsTechnologyPoliticsGreenCryptoAIWork & LifeWealthPursuitsBusinessweekCityLabEqualityPursuitsWork ShiftMarket DataStocksCommoditiesRates & BondsCurrenciesFuturesSectorsEconomic CalendarExploreNewslettersExplainersThe Big TakeGraphicsSubmit a TipAbout UsTerms of ServiceDo Not Sell or Share My Personal InformationTrademarksPrivacy PolicyCareersMade in NYCAdvertiseAd ChoicesHelp©2024 Bloomberg L.P. All Rights Reserved.\", 'name': 'web_scraping', 'role': 'function'}, {'content': '', 'function_call': {'arguments': '{\\n  \"url\": \"https://www.sciencedaily.com/news/computers_math/artificial_intelligence/\"\\n}', 'name': 'web_scraping'}, 'name': 'moderator', 'role': 'assistant'}, {'content': \"The article provides a summary of recent news and research in the field of artificial intelligence. It covers various topics such as the development of biomimetic olfactory sensors, robots' ability to interact with humans, giving robots common sense, and the behavior of robotic metamaterials. Other topics include the use of AI to detect COVID-19 in lung ultrasound images, communication between artificial intelligences, mathematical formulas behind neural network learning, public perceptions of advanced army robots, and the capabilities of a robot named ANYmal. The article also mentions advancements in haptic devices, AI-assisted hockey data tracking, machine learning in imageomics, collision avoidance in human-robot interactions, and the use of AI in health software design. Additionally, the article discusses developments in the field of robotics and AI, including new soft robot designs, dressing robots, and AI models for streamlining operations in robotic warehouses. It also mentions the fabrication of biomimetic robots, methods for doubling computer processing speeds, and innovations in depth from focus/defocus for computer vision systems. The article is part of a website that covers various topics such as internet, mobile computing, photography, quantum computers, robotics, software, and more. The website offers free subscriptions to stay informed with their email newsletter or RSS feeds.\", 'name': 'web_scraping', 'role': 'function'}, {'content': 'Based on the information obtained from the web scraping, here is a summary of the recent updates on AI agents:\\n\\n1. From the Wired article, we learn about the shift from chatbots to AI agents. Startups and tech giants are moving from chatbots that offer help via text, to AI agents that can perform tasks. A startup called Cognition AI released a demo showing an AI program called Devin performing work usually done by software engineers. Devin is branded as an \"AI software developer\" and can plan how to solve a problem, write the code, and then test and implement it. Google DeepMind has also developed an agent called SIMA, which plays video games and can perform over 600 tasks. \\n\\n2. The Bloomberg article mentions that 2023 was the year of the AI chatbot, and 2024 is shaping up to be the year of AI agents. Google, OpenAI, and other startups are touting a new frontier of AI products that can perform more complex tasks for users.\\n\\n3. The ScienceDaily article provides a summary of recent news and research in the field of AI. It covers various topics such as the development of biomimetic olfactory sensors, robots\\' ability to interact with humans, giving robots common sense, and the behavior of robotic metamaterials. Other topics include the use of AI to detect COVID-19 in lung ultrasound images, communication between artificial intelligences, mathematical formulas behind neural network learning, public perceptions of advanced army robots, and the capabilities of a robot named ANYmal.\\n\\nNow, let\\'s create a Google Doc with this information and share it with the provided email address.', 'function_call': {'arguments': '{\\n  \"data\": \"Based on the information obtained from the web scraping, here is a summary of the recent updates on AI agents:\\\\n\\\\n1. From the Wired article, we learn about the shift from chatbots to AI agents. Startups and tech giants are moving from chatbots that offer help via text, to AI agents that can perform tasks. A startup called Cognition AI released a demo showing an AI program called Devin performing work usually done by software engineers. Devin is branded as an \\\\\"AI software developer\\\\\" and can plan how to solve a problem, write the code, and then test and implement it. Google DeepMind has also developed an agent called SIMA, which plays video games and can perform over 600 tasks. \\\\n\\\\n2. The Bloomberg article mentions that 2023 was the year of the AI chatbot, and 2024 is shaping up to be the year of AI agents. Google, OpenAI, and other startups are touting a new frontier of AI products that can perform more complex tasks for users.\\\\n\\\\n3. The ScienceDaily article provides a summary of recent news and research in the field of AI. It covers various topics such as the development of biomimetic olfactory sensors, robots\\' ability to interact with humans, giving robots common sense, and the behavior of robotic metamaterials. Other topics include the use of AI to detect COVID-19 in lung ultrasound images, communication between artificial intelligences, mathematical formulas behind neural network learning, public perceptions of advanced army robots, and the capabilities of a robot named ANYmal.\",\\n  \"document_name\": \"Recent Updates on AI Agents\",\\n  \"email\": \"abdulmaajith0703@gmail.com\"\\n}', 'name': 'create_and_share_google_doc'}, 'name': 'assistant', 'role': 'assistant'}, {'content': '{\\'Document \\\\\\'Recent Updates on AI Agents\\\\\\' updated with custom data: Based on the information obtained from the web scraping, here is a summary of the recent updates on AI agents:\\\\n\\\\n1. From the Wired article, we learn about the shift from chatbots to AI agents. Startups and tech giants are moving from chatbots that offer help via text, to AI agents that can perform tasks. A startup called Cognition AI released a demo showing an AI program called Devin performing work usually done by software engineers. Devin is branded as an \"AI software developer\" and can plan how to solve a problem, write the code, and then test and implement it. Google DeepMind has also developed an agent called SIMA, which plays video games and can perform over 600 tasks. \\\\n\\\\n2. The Bloomberg article mentions that 2023 was the year of the AI chatbot, and 2024 is shaping up to be the year of AI agents. Google, OpenAI, and other startups are touting a new frontier of AI products that can perform more complex tasks for users.\\\\n\\\\n3. The ScienceDaily article provides a summary of recent news and research in the field of AI. It covers various topics such as the development of biomimetic olfactory sensors, robots\\\\\\' ability to interact with humans, giving robots common sense, and the behavior of robotic metamaterials. Other topics include the use of AI to detect COVID-19 in lung ultrasound images, communication between artificial intelligences, mathematical formulas behind neural network learning, public perceptions of advanced army robots, and the capabilities of a robot named ANYmal.\\', \"Document \\'Recent Updates on AI Agents\\' created with ID: 1B98kg8T0X3RG7WmhjxQ7FZLf2m12ko8Ce9GmTOFQFZ8\", \\'Document saved onto Drive: abdulmaajith0703@gmail.com, please check shared folder on your GDrive\\'}', 'name': 'create_and_share_google_doc', 'role': 'function'}, {'content': 'The Google Doc titled \"Recent Updates on AI Agents\" has been created and shared with the email address abdulmaajith0703@gmail.com. Please check the shared folder on your Google Drive to access the document. \\n\\nTERMINATE', 'name': 'moderator', 'role': 'user'}], summary='The Google Doc titled \"Recent Updates on AI Agents\" has been created and shared with the email address abdulmaajith0703@gmail.com. Please check the shared folder on your Google Drive to access the document. \\n\\n', cost=({'total_cost': 0.9122699999999999, 'gpt-4-0613': {'cost': 0.9122699999999999, 'prompt_tokens': 30383, 'completion_tokens': 13, 'total_tokens': 30396}}, {'total_cost': 0.9122699999999999, 'gpt-4-0613': {'cost': 0.9122699999999999, 'prompt_tokens': 30383, 'completion_tokens': 13, 'total_tokens': 30396}}), human_input=[])"
            ]
          },
          "metadata": {},
          "execution_count": 24
        }
      ]
    },
    {
      "cell_type": "code",
      "source": [],
      "metadata": {
        "id": "Yi1nVGPCTwXY"
      },
      "execution_count": null,
      "outputs": []
    }
  ]
}